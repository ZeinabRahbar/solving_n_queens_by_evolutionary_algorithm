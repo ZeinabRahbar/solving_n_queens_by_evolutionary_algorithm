{
  "nbformat": 4,
  "nbformat_minor": 0,
  "metadata": {
    "colab": {
      "provenance": []
    },
    "kernelspec": {
      "name": "python3",
      "display_name": "Python 3"
    },
    "language_info": {
      "name": "python"
    }
  },
  "cells": [
    {
      "cell_type": "code",
      "execution_count": 1,
      "metadata": {
        "colab": {
          "base_uri": "https://localhost:8080/"
        },
        "id": "afSvijUok-RJ",
        "outputId": "f7d13129-8bad-4d5a-c7d7-2e3e8077db8d"
      },
      "outputs": [
        {
          "output_type": "stream",
          "name": "stdout",
          "text": [
            "Solution found:\n",
            "[2, 2, 6, 1, 3, 5, 0, 4]\n"
          ]
        }
      ],
      "source": [
        "import random\n",
        "\n",
        "def generate_board(n):\n",
        "    board = [random.randint(0, n-1) for _ in range(n)]\n",
        "    return board\n",
        "\n",
        "def fitness(board):\n",
        "    n = len(board)\n",
        "    attacks = 0\n",
        "    for i in range(n):\n",
        "        for j in range(i + 1, n):\n",
        "            if board[i] == board[j] or abs(board[i] - board[j]) == abs(i - j):\n",
        "                attacks += 1\n",
        "    return attacks\n",
        "\n",
        "def crossover(parent1, parent2):\n",
        "    n = len(parent1)\n",
        "    crossover_point = random.randint(1, n - 2)\n",
        "    child = parent1[:crossover_point] + parent2[crossover_point:]\n",
        "    return child\n",
        "\n",
        "def mutate(board):\n",
        "    n = len(board)\n",
        "    mutated_board = list(board)\n",
        "    index = random.randint(0, n - 1)\n",
        "    new_position = random.randint(0, n - 1)\n",
        "    mutated_board[index] = new_position\n",
        "    return mutated_board\n",
        "\n",
        "def evolve_population(population, elitism_rate, mutation_rate):\n",
        "    population_size = len(population)\n",
        "    fitness_scores = [fitness(board) for board in population]\n",
        "    sorted_population = [x for _, x in sorted(zip(fitness_scores, population))]\n",
        "    elitism_count = int(population_size * elitism_rate)\n",
        "    new_population = sorted_population[:elitism_count]\n",
        "    while len(new_population) < population_size:\n",
        "        if random.random() < mutation_rate:\n",
        "            index = random.randint(0, elitism_count - 1)\n",
        "            new_population.append(mutate(sorted_population[index]))\n",
        "        else:\n",
        "            index1 = random.randint(0, elitism_count - 1)\n",
        "            index2 = random.randint(0, elitism_count - 1)\n",
        "            new_population.append(crossover(sorted_population[index1], sorted_population[index2]))\n",
        "    return new_population\n",
        "\n",
        "def genetic_algorithm(n, population_size, elitism_rate, mutation_rate, max_generations):\n",
        "    population = [generate_board(n) for _ in range(population_size)]\n",
        "    generation = 0\n",
        "    while generation < max_generations:\n",
        "        population = evolve_population(population, elitism_rate, mutation_rate)\n",
        "        best_fitness = fitness(population[0])\n",
        "        if best_fitness == 0:\n",
        "            break\n",
        "        generation += 1\n",
        "    best_board = population[0]\n",
        "    return best_board\n",
        "\n",
        "# Example usage\n",
        "n = 8  # Number of queens\n",
        "population_size = 100  # Population size\n",
        "elitism_rate = 0.1  # Percentage of top individuals to retain as elites\n",
        "mutation_rate = 0.1  # Probability of mutation\n",
        "max_generations = 1000  # Maximum number of generations\n",
        "\n",
        "solution = genetic_algorithm(n, population_size, elitism_rate, mutation_rate, max_generations)\n",
        "if solution is not None:\n",
        "    print(\"Solution found:\")\n",
        "    print(solution)\n",
        "else:\n",
        "    print(\"No solution found within the given number of generations.\")"
      ]
    },
    {
      "cell_type": "code",
      "source": [
        "import random\n",
        "\n",
        "def generate_board(n):\n",
        "    board = [random.randint(0, n-1) for _ in range(n)]\n",
        "    return board\n",
        "\n",
        "def generate_initial_population(n, population_size):\n",
        "    population = []\n",
        "    for _ in range(population_size):\n",
        "        board = generate_board(n)\n",
        "        population.append(board)\n",
        "    return population\n",
        "\n",
        "def generate_queen_positions(n):\n",
        "    positions = []\n",
        "    for i in range(n):\n",
        "        positions.append((i, (i + 1) % n))\n",
        "    return positions\n",
        "\n",
        "def generate_initial_population_heuristic(n, population_size):\n",
        "    positions = generate_queen_positions(n)\n",
        "    population = []\n",
        "    for _ in range(population_size):\n",
        "        random.shuffle(positions)\n",
        "        board = [pos[1] for pos in positions]\n",
        "        population.append(board)\n",
        "    return population\n",
        "\n",
        "# Example usage\n",
        "n = 8  # Number of queens\n",
        "population_size = 10  # Population size\n",
        "\n",
        "# Generate initial population using random initialization\n",
        "initial_population_random = generate_initial_population(n, population_size)\n",
        "print(\"Random Initialization:\")\n",
        "for board in initial_population_random:\n",
        "    print(board)\n",
        "\n",
        "# Generate initial population using heuristic initialization\n",
        "initial_population_heuristic = generate_initial_population_heuristic(n, population_size)\n",
        "print(\"\\nHeuristic Initialization:\")\n",
        "for board in initial_population_heuristic:\n",
        "    print(board)"
      ],
      "metadata": {
        "id": "O3P3kK9QlTJ1",
        "outputId": "188c137a-7f4b-41eb-b071-8fc9edc2c1c8",
        "colab": {
          "base_uri": "https://localhost:8080/"
        }
      },
      "execution_count": 2,
      "outputs": [
        {
          "output_type": "stream",
          "name": "stdout",
          "text": [
            "Random Initialization:\n",
            "[2, 1, 6, 0, 5, 2, 4, 3]\n",
            "[1, 0, 1, 2, 1, 3, 4, 0]\n",
            "[0, 5, 3, 4, 0, 1, 7, 7]\n",
            "[3, 0, 7, 2, 5, 2, 6, 6]\n",
            "[4, 6, 1, 4, 1, 1, 1, 2]\n",
            "[4, 1, 4, 3, 0, 0, 5, 6]\n",
            "[6, 3, 4, 0, 3, 5, 1, 1]\n",
            "[2, 3, 7, 6, 5, 3, 3, 3]\n",
            "[7, 6, 0, 4, 0, 0, 4, 5]\n",
            "[7, 1, 1, 4, 3, 7, 6, 1]\n",
            "\n",
            "Heuristic Initialization:\n",
            "[3, 0, 5, 7, 4, 6, 1, 2]\n",
            "[3, 0, 4, 2, 7, 5, 6, 1]\n",
            "[4, 7, 0, 6, 5, 2, 3, 1]\n",
            "[6, 4, 7, 2, 0, 3, 1, 5]\n",
            "[7, 0, 5, 6, 4, 3, 1, 2]\n",
            "[3, 7, 0, 5, 1, 6, 2, 4]\n",
            "[3, 7, 5, 6, 4, 2, 1, 0]\n",
            "[2, 7, 5, 3, 4, 1, 6, 0]\n",
            "[5, 4, 2, 0, 7, 3, 6, 1]\n",
            "[0, 4, 3, 1, 5, 2, 6, 7]\n"
          ]
        }
      ]
    }
  ]
}